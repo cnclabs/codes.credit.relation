{
 "cells": [
  {
   "cell_type": "code",
   "execution_count": 1,
   "metadata": {},
   "outputs": [],
   "source": [
    "from main import *\n",
    "\n",
    "data_path = '/tmp2/yhchen/Default_Prediction_Research_Project/explainable_credit/codes/data/processed/sample/8_labels_index/len_06/index_fold_03'\n",
    "json_path = '/tmp2/yhchen/Default_Prediction_Research_Project/explainable_credit/experiments/gru06_index/index_fold_03/params.json'\n",
    "params = Params(json_path)\n",
    "train_data = \"train_cum.gz\"\n",
    "test_data  = \"test_cum.gz\"\n",
    "train_data = os.path.join(data_path, train_data)\n",
    "eval_data  = os.path.join(data_path, test_data)\n",
    "DEVICE = torch.device(f\"cuda:{'0'}\")"
   ]
  },
  {
   "cell_type": "code",
   "execution_count": 2,
   "metadata": {},
   "outputs": [],
   "source": [
    "# Load Data\n",
    "def load_dataset_2(path, params, sampling, device, is_training, split_valid):\n",
    "    # Check the compression\n",
    "    compression = \"gzip\" if \".gz\" in path else None\n",
    "\n",
    "    # Get infos, features, and labels (No for_column)\n",
    "    # Read the data & skip the header\n",
    "    df = pd.read_csv(path, compression=compression, header=0)\n",
    "\n",
    "    # Fill missing values\n",
    "    features_coverage = 2 + params.feature_size * params.window_size\n",
    "    df.iloc[:, :2] = df.iloc[:, :2].fillna(\"\") # info_df\n",
    "    df.iloc[:, 2:features_coverage] = df.iloc[:, 2:features_coverage].fillna(0.0) # feature_df\n",
    "    df.iloc[:, features_coverage:] = df.iloc[:, features_coverage:].fillna(0) # label_df\n",
    "\n",
    "    # Replace other events as 0: 2 -> 0\n",
    "    df.iloc[:, features_coverage:] = df.iloc[:, features_coverage:].replace(2, 0)\n",
    "\n",
    "    return Change_Training_Instance(df, params, sampling, device=device)"
   ]
  },
  {
   "cell_type": "code",
   "execution_count": 3,
   "metadata": {},
   "outputs": [],
   "source": [
    "train_infos_, train_features_, train_labels_ = load_dataset_2(path=train_data, params=params, sampling=True, device=DEVICE, is_training=True, split_valid=False)\n",
    "test_infos_, test_features_, test_labels_ = load_dataset_2(path=eval_data, params=params, sampling=True, device=DEVICE, is_training=False, split_valid=False)"
   ]
  },
  {
   "cell_type": "code",
   "execution_count": 11,
   "metadata": {},
   "outputs": [
    {
     "data": {
      "text/plain": [
       "2"
      ]
     },
     "execution_count": 11,
     "metadata": {},
     "output_type": "execute_result"
    }
   ],
   "source": [
    "# (325, 500, 2)\n",
    "len(train_infos_[0][0])\n",
    "# (325, 500, 9)\n",
    "len(train_infos_[0][0])"
   ]
  },
  {
   "cell_type": "code",
   "execution_count": 12,
   "metadata": {},
   "outputs": [],
   "source": [
    "import pandas as pd\n",
    "\n",
    "path1 = '/tmp2/yhchen/Default_Prediction_Research_Project/explainable_credit/codes/data/processed/sample/8_labels_time_no_overtime/len_06/time_fold_02/'\n",
    "path2 = '/tmp2/cwlin/explainable_credit/data/sample/8_labels_time_no_overtime/len_06/time_fold_02/'\n",
    "\n",
    "\n",
    "compression = \"gzip\"\n",
    "\n",
    "# Get infos, features, and labels (No for_column)\n",
    "# Read the data & skip the header\n",
    "train_df1 = pd.read_csv(path1+'train_cum.gz', compression=compression, header=0)\n",
    "train_df2 = pd.read_csv(path2+'train_cum.gz', compression=compression, header=0)\n",
    "test_df1 = pd.read_csv(path1+'test_cum.gz', compression=compression, header=0)\n",
    "test_df2 = pd.read_csv(path2+'test_cum.gz', compression=compression, header=0)"
   ]
  },
  {
   "cell_type": "code",
   "execution_count": 13,
   "metadata": {},
   "outputs": [
    {
     "name": "stdout",
     "output_type": "stream",
     "text": [
      "Empty DataFrame\n",
      "Columns: []\n",
      "Index: []\n"
     ]
    }
   ],
   "source": [
    "print(train_df1.compare(train_df2))"
   ]
  },
  {
   "cell_type": "code",
   "execution_count": null,
   "metadata": {},
   "outputs": [],
   "source": []
  }
 ],
 "metadata": {
  "kernelspec": {
   "display_name": ".venv",
   "language": "python",
   "name": "python3"
  },
  "language_info": {
   "codemirror_mode": {
    "name": "ipython",
    "version": 3
   },
   "file_extension": ".py",
   "mimetype": "text/x-python",
   "name": "python",
   "nbconvert_exporter": "python",
   "pygments_lexer": "ipython3",
   "version": "3.8.10"
  },
  "orig_nbformat": 4,
  "vscode": {
   "interpreter": {
    "hash": "8a7a948664f7892071c84d5d9b845f7a2c0dac6097ef32eb4307994a6fc2ee7d"
   }
  }
 },
 "nbformat": 4,
 "nbformat_minor": 2
}
